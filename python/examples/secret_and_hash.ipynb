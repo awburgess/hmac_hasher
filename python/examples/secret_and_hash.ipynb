{
 "cells": [
  {
   "cell_type": "markdown",
   "metadata": {
    "toc": true
   },
   "source": [
    "<h1>Table of Contents<span class=\"tocSkip\"></span></h1>\n",
    "<div class=\"toc\"><ul class=\"toc-item\"><li><span><a href=\"#imports\" data-toc-modified-id=\"imports-1\"><span class=\"toc-item-num\">1&nbsp;&nbsp;</span>imports</a></span></li><li><span><a href=\"#make-passphrase-hash\" data-toc-modified-id=\"make-passphrase-hash-2\"><span class=\"toc-item-num\">2&nbsp;&nbsp;</span>make passphrase hash</a></span></li><li><span><a href=\"#digest-vs.-hexdigest\" data-toc-modified-id=\"digest-vs.-hexdigest-3\"><span class=\"toc-item-num\">3&nbsp;&nbsp;</span>digest vs. hexdigest</a></span><ul class=\"toc-item\"><li><span><a href=\"#Manual-conversion-for-understanding\" data-toc-modified-id=\"Manual-conversion-for-understanding-3.1\"><span class=\"toc-item-num\">3.1&nbsp;&nbsp;</span>Manual conversion for understanding</a></span><ul class=\"toc-item\"><li><span><a href=\"#Step-1---convert-hex-characters-to-binary-numbers\" data-toc-modified-id=\"Step-1---convert-hex-characters-to-binary-numbers-3.1.1\"><span class=\"toc-item-num\">3.1.1&nbsp;&nbsp;</span>Step 1 - convert hex characters to binary numbers</a></span></li><li><span><a href=\"#Step-2---convert-binary-string-list-to-byte-array\" data-toc-modified-id=\"Step-2---convert-binary-string-list-to-byte-array-3.1.2\"><span class=\"toc-item-num\">3.1.2&nbsp;&nbsp;</span>Step 2 - convert binary string list to byte array</a></span></li></ul></li><li><span><a href=\"#built-in-Python-methods\" data-toc-modified-id=\"built-in-Python-methods-3.2\"><span class=\"toc-item-num\">3.2&nbsp;&nbsp;</span>built-in Python methods</a></span><ul class=\"toc-item\"><li><span><a href=\"#bytearray.fromhex\" data-toc-modified-id=\"bytearray.fromhex-3.2.1\"><span class=\"toc-item-num\">3.2.1&nbsp;&nbsp;</span>bytearray.fromhex</a></span></li><li><span><a href=\"#binascii.unhexlify\" data-toc-modified-id=\"binascii.unhexlify-3.2.2\"><span class=\"toc-item-num\">3.2.2&nbsp;&nbsp;</span>binascii.unhexlify</a></span></li></ul></li></ul></li><li><span><a href=\"#hash-values\" data-toc-modified-id=\"hash-values-4\"><span class=\"toc-item-num\">4&nbsp;&nbsp;</span>hash values</a></span></li></ul></div>"
   ]
  },
  {
   "cell_type": "markdown",
   "metadata": {},
   "source": [
    "# imports"
   ]
  },
  {
   "cell_type": "code",
   "execution_count": null,
   "metadata": {
    "ExecuteTime": {
     "end_time": "2018-12-04T14:53:48.207255Z",
     "start_time": "2018-12-04T14:53:48.202981Z"
    }
   },
   "outputs": [],
   "source": [
    "# use Python 3.6 secrets package\n",
    "import binascii\n",
    "import hashlib\n",
    "import math\n",
    "import secrets\n",
    "import sys"
   ]
  },
  {
   "cell_type": "markdown",
   "metadata": {},
   "source": [
    "# make passphrase hash"
   ]
  },
  {
   "cell_type": "code",
   "execution_count": null,
   "metadata": {
    "ExecuteTime": {
     "end_time": "2018-12-04T14:53:50.616199Z",
     "start_time": "2018-12-04T14:53:50.612076Z"
    }
   },
   "outputs": [],
   "source": [
    "# what is our secret?\n",
    "passphrase = \"fakedata\"\n",
    "\n",
    "# get hasher\n",
    "sha256_instance = hashlib.sha256()\n",
    "\n",
    "# encode to utf-8, then put the secret in the SHA256 hasher.\n",
    "encoded_passphrase = passphrase.encode( \"utf-8\" )\n",
    "sha256_instance.update( encoded_passphrase )\n",
    "\n",
    "# get hash as digest (byte array)\n",
    "passphrase_hash = sha256_instance.digest()\n",
    "print( \"digest(): {}\".format( passphrase_hash ) )\n",
    "\n",
    "# get hash as hexdigest (byte array)\n",
    "passphrase_hash_hex = sha256_instance.hexdigest()\n",
    "print( \"hexdigest(): {}\".format( passphrase_hash_hex ) )"
   ]
  },
  {
   "cell_type": "markdown",
   "metadata": {},
   "source": [
    "# digest vs. hexdigest\n",
    "\n",
    "- Back to [Table of Contents](#Table-of-Contents)\n",
    "\n",
    "The byte array we used to hash (output by the `digest()` method) can be represented as the hexadecimal number `hexdigest()` outputs, but that is just a more readable encoding of the underlying binary hash output - to convert to hex, the program takes each 4-bit chunk, from left to right, and converts the 4 binary/base-2 bits to a hexadecimal number, then it stores that hex digit's character in a string.\n",
    "\n",
    "If you just convert that back to binary, you don’t get the same bit stream - you get the ascii/utf-8 character codes, one to a byte.  To get the same output, you need to convert back to binary the reverse of the way the hex values were generated.\n",
    "\n",
    "So, to create a byte array that will result in the same hash as our code:\n",
    "\n",
    "- take each hex digit and convert it to a 4-digit base 2/binary number (left padded with zeros for small values).\n",
    "- concatenate all the digits together into a big long string of bits, then, from left to right, store each set of 8 bits as a byte in the byte array/binary data blob that you’ll use as the HMAC secret."
   ]
  },
  {
   "cell_type": "markdown",
   "metadata": {},
   "source": [
    "## Manual conversion for understanding\n",
    "\n",
    "- Back to [Table of Contents](#Table-of-Contents)"
   ]
  },
  {
   "cell_type": "markdown",
   "metadata": {},
   "source": [
    "### Step 1 - convert hex characters to binary numbers\n",
    "\n",
    "- Back to [Table of Contents](#Table-of-Contents)\n",
    "\n",
    "1) Take each hex digit and convert it to a 4-digit base 2/binary number (left padded with zeros for small values):"
   ]
  },
  {
   "cell_type": "code",
   "execution_count": null,
   "metadata": {
    "ExecuteTime": {
     "end_time": "2018-12-04T15:18:28.841554Z",
     "start_time": "2018-12-04T15:18:28.834456Z"
    }
   },
   "outputs": [],
   "source": [
    "# declare variables\n",
    "four_bit_binary_list = []\n",
    "\n",
    "# loop over each.\n",
    "for item in passphrase_hash_hex:\n",
    "    \n",
    "    item_int = int( item, 16 )\n",
    "    item_bin = \"{0:b}\".format( item_int )\n",
    "    item_bin_string = str( item_bin )\n",
    "    item_bin_string_padded = item_bin_string.zfill( 4 )\n",
    "    item_bin_length = len( item_bin )\n",
    "    \n",
    "    print( \"{} = {} ( {} - {} - len: {} )\".format( item, item_int, item_bin, item_bin_string_padded, item_bin_length ) )\n",
    "    \n",
    "    # add to list.\n",
    "    four_bit_binary_list.append( item_bin_string_padded )\n",
    "    \n",
    "#-- END loop over passphrase_hash --#"
   ]
  },
  {
   "cell_type": "markdown",
   "metadata": {},
   "source": [
    "### Step 2 - convert binary string list to byte array\n",
    "\n",
    "- Back to [Table of Contents](#Table-of-Contents)\n",
    "\n",
    "- concatenate all the digits together into a big long binary stream.\n",
    "- then, from left to right, store each set of 8 bits as a byte in the byte array/binary data blob that you’ll use as the HMAC secret."
   ]
  },
  {
   "cell_type": "code",
   "execution_count": null,
   "metadata": {
    "ExecuteTime": {
     "end_time": "2018-12-04T15:23:04.633171Z",
     "start_time": "2018-12-04T15:23:04.628359Z"
    }
   },
   "outputs": [],
   "source": [
    "# join the list into one big string.\n",
    "binary_string = \"\".join( four_bit_binary_list )\n",
    "\n",
    "# Python 3 way:\n",
    "binary_bytes = int( binary_string, 2 ).to_bytes( ( len( binary_string ) + 7 ) // 8, byteorder = 'big' )\n",
    "print( \"int().to_bytes()..: {}\".format( binary_bytes ) )\n",
    "\n",
    "# Python 2 compatible:\n",
    "def bitstring_to_bytes(s):\n",
    "    v = int(s, 2)\n",
    "    b = bytearray()\n",
    "    while v:\n",
    "        b.append(v & 0xff)\n",
    "        v >>= 8\n",
    "    return bytes(b[::-1])\n",
    "\n",
    "#-- END function bitstring_to_bytes() --#\n",
    "\n",
    "py2_binary_bytes = bitstring_to_bytes( binary_string )\n",
    "print( \"bitstring_to_bytes: {}\".format( py2_binary_bytes ) )\n",
    "\n",
    "print( \"digest() output...: {}\".format( passphrase_hash ) )"
   ]
  },
  {
   "cell_type": "markdown",
   "metadata": {},
   "source": [
    "## built-in Python methods\n",
    "\n",
    "- Back to [Table of Contents](#Table-of-Contents)\n",
    "\n",
    "Python provides built-in functions to accomplish this."
   ]
  },
  {
   "cell_type": "markdown",
   "metadata": {},
   "source": [
    "### bytearray.fromhex\n",
    "\n",
    "- Back to [Table of Contents](#Table-of-Contents)\n",
    "\n",
    "From: https://docs.python.org/3.6/library/stdtypes.html#bytearray-objects\n",
    "\n",
    "Since 2 hexadecimal digits correspond precisely to a single byte, hexadecimal numbers are a commonly used format for describing binary data. Accordingly, the bytearray type has an additional class method to read data in that format:\n",
    "\n",
    "classmethod fromhex(string)\n",
    "\n",
    "    This bytearray class method returns bytearray object, decoding the given string object. The string must contain two hexadecimal digits per byte, with ASCII whitespace being ignored.\n",
    "\n",
    "    >>> bytearray.fromhex('2Ef0 F1f2  ')\n",
    "    bytearray(b'.\\xf0\\xf1\\xf2')\n",
    "\n",
    "A reverse conversion function exists to transform a bytearray object into its hexadecimal representation.\n",
    "\n",
    "hex()\n",
    "\n",
    "    Return a string object containing two hexadecimal digits for each byte in the instance.\n",
    "\n",
    "    >>> bytearray(b'\\xf0\\xf1\\xf2').hex()\n",
    "    'f0f1f2'\n",
    "\n",
    "More information:\n",
    "\n",
    "- https://docs.python.org/3.6/c-api/bytearray.html\n",
    "- https://docs.python.org/3.6/library/stdtypes.html#bytearray-objects\n"
   ]
  },
  {
   "cell_type": "code",
   "execution_count": null,
   "metadata": {
    "ExecuteTime": {
     "end_time": "2018-12-03T23:15:43.346883Z",
     "start_time": "2018-12-03T23:15:43.343476Z"
    },
    "scrolled": true
   },
   "outputs": [],
   "source": [
    "test_bytes = bytearray.fromhex( passphrase_hash_hex )\n",
    "print( \"passphrase_hash_hex = {}\".format( passphrase_hash_hex ) )\n",
    "print( \"bytearray.fromhex( passphrase_hash_hex ) = {}\".format( test_bytes ) )"
   ]
  },
  {
   "cell_type": "markdown",
   "metadata": {},
   "source": [
    "### binascii.unhexlify\n",
    "\n",
    "- Back to [Table of Contents](#Table-of-Contents)\n",
    "\n",
    "From: https://docs.python.org/3/library/binascii.html#binascii.b2a_hex \n",
    "\n",
    "binascii.b2a_hex(data)\n",
    "binascii.hexlify(data)\n",
    "\n",
    "    Return the hexadecimal representation of the binary data. Every byte of data is converted into the corresponding 2-digit hex representation. The returned bytes object is therefore twice as long as the length of data.\n",
    "\n",
    "binascii.a2b_hex(hexstr)\n",
    "binascii.unhexlify(hexstr)\n",
    "\n",
    "    Return the binary data represented by the hexadecimal string hexstr. This function is the inverse of b2a_hex(). hexstr must contain an even number of hexadecimal digits (which can be upper or lower case), otherwise an Error exception is raised.\n"
   ]
  },
  {
   "cell_type": "code",
   "execution_count": null,
   "metadata": {
    "ExecuteTime": {
     "end_time": "2018-12-03T23:16:17.847838Z",
     "start_time": "2018-12-03T23:16:17.844355Z"
    }
   },
   "outputs": [],
   "source": [
    "binascii_test_bytes = binascii.unhexlify( passphrase_hash_hex )\n",
    "print( \"passphrase_hash_hex = {}\".format( passphrase_hash_hex ) )\n",
    "print( \"bytearray.fromhex( passphrase_hash_hex ) = {}\".format( binascii_test_bytes ) )"
   ]
  },
  {
   "cell_type": "markdown",
   "metadata": {},
   "source": [
    "# hash values"
   ]
  },
  {
   "cell_type": "code",
   "execution_count": null,
   "metadata": {
    "ExecuteTime": {
     "end_time": "2018-12-04T15:24:35.542875Z",
     "start_time": "2018-12-04T15:24:35.539124Z"
    }
   },
   "outputs": [],
   "source": [
    "# digest() output\n",
    "import hmac\n",
    "\n",
    "# byte array secret and encoded message (each is required)\n",
    "message = \"123456789\"\n",
    "encoded_message = message.encode( \"utf-8\" )\n",
    "hmac_key = passphrase_hash\n",
    "hmac_instance = hmac.new( hmac_key, encoded_message, digestmod = hashlib.sha256 )\n",
    "hashed_value = hmac_instance.hexdigest()\n",
    "print( \"Hash of {}: {}\".format( message, hashed_value )  )"
   ]
  },
  {
   "cell_type": "code",
   "execution_count": null,
   "metadata": {
    "ExecuteTime": {
     "end_time": "2018-12-04T15:24:36.750654Z",
     "start_time": "2018-12-04T15:24:36.746912Z"
    }
   },
   "outputs": [],
   "source": [
    "# reconstructed binary_bytes\n",
    "import hmac\n",
    "\n",
    "# byte array secret and encoded message (each is required)\n",
    "message = \"123456789\"\n",
    "encoded_message = message.encode( \"utf-8\" )\n",
    "hmac_key = binary_bytes\n",
    "hmac_instance = hmac.new( hmac_key, encoded_message, digestmod = hashlib.sha256 )\n",
    "hashed_value = hmac_instance.hexdigest()\n",
    "print( \"Hash of {}: {}\".format( message, hashed_value )  )"
   ]
  },
  {
   "cell_type": "code",
   "execution_count": null,
   "metadata": {
    "ExecuteTime": {
     "end_time": "2018-12-04T15:24:37.701582Z",
     "start_time": "2018-12-04T15:24:37.697886Z"
    }
   },
   "outputs": [],
   "source": [
    "# reconstructed py2_binary_bytes\n",
    "import hmac\n",
    "\n",
    "# byte array secret and encoded message (each is required)\n",
    "message = \"123456789\"\n",
    "encoded_message = message.encode( \"utf-8\" )\n",
    "hmac_key = py2_binary_bytes\n",
    "hmac_instance = hmac.new( hmac_key, encoded_message, digestmod = hashlib.sha256 )\n",
    "hashed_value = hmac_instance.hexdigest()\n",
    "print( \"Hash of {}: {}\".format( message, hashed_value )  )"
   ]
  }
 ],
 "metadata": {
  "kernelspec": {
   "display_name": "Python 3",
   "language": "python",
   "name": "python3"
  },
  "language_info": {
   "codemirror_mode": {
    "name": "ipython",
    "version": 3
   },
   "file_extension": ".py",
   "mimetype": "text/x-python",
   "name": "python",
   "nbconvert_exporter": "python",
   "pygments_lexer": "ipython3",
   "version": "3.6.7"
  },
  "toc": {
   "base_numbering": 1,
   "nav_menu": {},
   "number_sections": true,
   "sideBar": true,
   "skip_h1_title": false,
   "title_cell": "Table of Contents",
   "title_sidebar": "Contents",
   "toc_cell": true,
   "toc_position": {},
   "toc_section_display": true,
   "toc_window_display": true
  }
 },
 "nbformat": 4,
 "nbformat_minor": 2
}
