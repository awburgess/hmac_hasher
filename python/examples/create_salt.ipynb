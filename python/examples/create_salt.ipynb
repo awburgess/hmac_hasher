{
 "cells": [
  {
   "cell_type": "markdown",
   "metadata": {
    "toc": true
   },
   "source": [
    "<h1>Table of Contents<span class=\"tocSkip\"></span></h1>\n",
    "<div class=\"toc\"><ul class=\"toc-item\"><li><span><a href=\"#Imports\" data-toc-modified-id=\"Imports-1\"><span class=\"toc-item-num\">1&nbsp;&nbsp;</span>Imports</a></span></li><li><span><a href=\"#Generate-random-secret\" data-toc-modified-id=\"Generate-random-secret-2\"><span class=\"toc-item-num\">2&nbsp;&nbsp;</span>Generate random secret</a></span></li><li><span><a href=\"#Use-secret-in-HMAC-hash\" data-toc-modified-id=\"Use-secret-in-HMAC-hash-3\"><span class=\"toc-item-num\">3&nbsp;&nbsp;</span>Use secret in HMAC hash</a></span></li></ul></div>"
   ]
  },
  {
   "cell_type": "markdown",
   "metadata": {},
   "source": [
    "# Imports"
   ]
  },
  {
   "cell_type": "code",
   "execution_count": null,
   "metadata": {
    "ExecuteTime": {
     "end_time": "2018-11-29T19:04:50.028266Z",
     "start_time": "2018-11-29T19:04:50.023517Z"
    }
   },
   "outputs": [],
   "source": [
    "# use Python 3.6 secrets package\n",
    "import hashlib\n",
    "import math\n",
    "import secrets\n",
    "import sys"
   ]
  },
  {
   "cell_type": "markdown",
   "metadata": {},
   "source": [
    "# Generate random secret\n",
    "\n",
    "- Back to [Tabe of Contents](#Table-of-Contents)"
   ]
  },
  {
   "cell_type": "code",
   "execution_count": null,
   "metadata": {},
   "outputs": [],
   "source": [
    "# Create random hexadecimal token of default size (32 bytes, 64 hex digits)\n",
    "token_hex = secrets.token_hex()\n",
    "print( \"token: \" + token_hex + \"; length = \" + str( len( token_hex ) ) )"
   ]
  },
  {
   "cell_type": "code",
   "execution_count": null,
   "metadata": {},
   "outputs": [],
   "source": [
    "# convert to integer\n",
    "token_int = int( token_hex, 16 )\n",
    "print( \"Default token int: \" + str( token_int ) )"
   ]
  },
  {
   "cell_type": "code",
   "execution_count": null,
   "metadata": {},
   "outputs": [],
   "source": [
    "# get bit count\n",
    "token_bit_count = token_int.bit_length()\n",
    "print( \"token bit count = \" + str( token_bit_count ) )"
   ]
  },
  {
   "cell_type": "code",
   "execution_count": null,
   "metadata": {},
   "outputs": [],
   "source": [
    "# get byte count\n",
    "token_byte_count = token_bit_count / 8\n",
    "token_byte_count = math.ceil( token_byte_count )\n",
    "token_byte_count = int( token_byte_count )\n",
    "print( \"token byte count = \" + str( token_byte_count ) )"
   ]
  },
  {
   "cell_type": "code",
   "execution_count": null,
   "metadata": {},
   "outputs": [],
   "source": [
    "# convert to bytes\n",
    "token_bytes = token_int.to_bytes( token_byte_count, byteorder = sys.byteorder )\n",
    "print( \"token bytes = \" + str( token_bytes ) )"
   ]
  },
  {
   "cell_type": "code",
   "execution_count": null,
   "metadata": {},
   "outputs": [],
   "source": [
    "# hash to create salt value\n",
    "salt_hash = hashlib.sha256( token_bytes )\n",
    "salt = salt_hash.hexdigest()\n",
    "print( \"salt (not including quotation marks): \\\"\" + str( salt ) + \"\\\"; type = \" + str( type( salt ) ) )"
   ]
  },
  {
   "cell_type": "markdown",
   "metadata": {},
   "source": [
    "# Use secret in HMAC hash\n",
    "\n",
    "- Back to [Table of Contents](#Table-of-Contents)\n",
    "\n",
    "At this point, we will use a different, less rigorously generated secret (\"fakedata\", from all the examples), and show how you take a secret and use it in an HMAC hash in Python."
   ]
  },
  {
   "cell_type": "code",
   "execution_count": null,
   "metadata": {
    "ExecuteTime": {
     "end_time": "2018-11-29T19:09:46.170379Z",
     "start_time": "2018-11-29T19:09:46.166351Z"
    }
   },
   "outputs": [],
   "source": [
    "# what is our secret?\n",
    "value_IN = \"fakedata\"\n",
    "\n",
    "# get hasher\n",
    "sha256_instance = hashlib.sha256()\n",
    "\n",
    "# encode to utf-8, then put the secret in the SHA256 hasher.\n",
    "encoded_passphrase = value_IN.encode( \"utf-8\" )\n",
    "sha256_instance.update( encoded_passphrase )\n",
    "\n",
    "# get hash as digest (byte array)\n",
    "passphrase_hash = sha256_instance.digest()\n",
    "print( \"digest(): {}\".format( passphrase_hash ) )\n",
    "\n",
    "# get hash as hexdigest (byte array)\n",
    "passphrase_hash_hex = sha256_instance.hexdigest()\n",
    "print( \"hexdigest(): {}\".format( passphrase_hash_hex ) )"
   ]
  },
  {
   "cell_type": "code",
   "execution_count": null,
   "metadata": {
    "ExecuteTime": {
     "end_time": "2018-11-29T19:15:56.396572Z",
     "start_time": "2018-11-29T19:15:56.393038Z"
    }
   },
   "outputs": [],
   "source": [
    "# byte array secret and encoded message (each is required)\n",
    "import hmac\n",
    "message = \"123456789\"\n",
    "encoded_message = message.encode( \"utf-8\" )\n",
    "hmac_key = passphrase_hash\n",
    "hmac_instance = hmac.new( hmac_key, encoded_message, digestmod = hashlib.sha256 )\n",
    "hashed_value = hmac_instance.hexdigest()\n",
    "print( \"Hash of {}: {}\".format( message, hashed_value )  )"
   ]
  }
 ],
 "metadata": {
  "kernelspec": {
   "display_name": "Python 3",
   "language": "python",
   "name": "python3"
  },
  "language_info": {
   "codemirror_mode": {
    "name": "ipython",
    "version": 3
   },
   "file_extension": ".py",
   "mimetype": "text/x-python",
   "name": "python",
   "nbconvert_exporter": "python",
   "pygments_lexer": "ipython3",
   "version": "3.6.7"
  },
  "toc": {
   "base_numbering": 1,
   "nav_menu": {},
   "number_sections": true,
   "sideBar": true,
   "skip_h1_title": false,
   "title_cell": "Table of Contents",
   "title_sidebar": "Contents",
   "toc_cell": true,
   "toc_position": {},
   "toc_section_display": true,
   "toc_window_display": true
  }
 },
 "nbformat": 4,
 "nbformat_minor": 2
}
